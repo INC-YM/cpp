{
 "cells": [
  {
   "cell_type": "markdown",
   "metadata": {},
   "source": [
    "1. 预处理器 Preprocessor\n",
    "* 在compilation（编译）前被executed（执行）\n",
    "* 预处理directive（指示）以#开头"
   ]
  },
  {
   "cell_type": "markdown",
   "metadata": {},
   "source": [
    "2. preprocessing instruction（预处理指令）\n",
    "* define\n",
    "* undef\n",
    "* include\n",
    "* if\n",
    "* ifdef\n",
    "* ifndef\n",
    "* else\n",
    "* elif\n",
    "* endif\n",
    "* line\n",
    "* error\n",
    "* pragma"
   ]
  }
 ],
 "metadata": {
  "language_info": {
   "name": "python"
  }
 },
 "nbformat": 4,
 "nbformat_minor": 2
}
