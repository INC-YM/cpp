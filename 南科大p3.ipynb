{
 "cells": [
  {
   "cell_type": "markdown",
   "metadata": {},
   "source": [
    "1. C或C++语言的.h/.hpp；.c/.cpp文件的区别？\n",
    ".h/.hpp是用来存放函数的声明的；.c/.cpp是用来存放函数的实现的\n",
    "例如：mul.hpp\n",
    "# pragma once\n",
    "int mul(int a, int b);\n",
    "例如：mul.cpp\n",
    "# include \"mul.hpp\"\n",
    "int mul(int a, int b)\n",
    "{\n",
    "    return a * b\n",
    "}"
   ]
  },
  {
   "cell_type": "markdown",
   "metadata": {},
   "source": []
  }
 ],
 "metadata": {
  "language_info": {
   "name": "python"
  }
 },
 "nbformat": 4,
 "nbformat_minor": 2
}
