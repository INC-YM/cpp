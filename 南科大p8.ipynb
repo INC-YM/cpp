{
 "cells": [
  {
   "cell_type": "markdown",
   "metadata": {},
   "source": [
    "# 更多的整数类型"
   ]
  },
  {
   "cell_type": "markdown",
   "metadata": {},
   "source": [
    "## 1 char"
   ]
  },
  {
   "cell_type": "markdown",
   "metadata": {},
   "source": [
    "1. \n",
    "char 是character（字符）类型，但是实际上是一个8-bit（位）整数\n",
    "因此可以用符号修饰\n",
    "signed char：有符号的8-bit integer\n",
    "unsigned char：无符号的\n",
    "char：有符号或无符号都行"
   ]
  },
  {
   "cell_type": "markdown",
   "metadata": {},
   "source": [
    "2. \n",
    "中文字符的表达（2-3字节）\n",
    "char16_t c = u\"于\"; //C++11\n",
    "char32_t c = U\"于\"; //C++11\n"
   ]
  },
  {
   "cell_type": "markdown",
   "metadata": {},
   "source": [
    "## 2 bool"
   ]
  },
  {
   "cell_type": "markdown",
   "metadata": {},
   "source": []
  }
 ],
 "metadata": {
  "language_info": {
   "name": "python"
  }
 },
 "nbformat": 4,
 "nbformat_minor": 2
}
